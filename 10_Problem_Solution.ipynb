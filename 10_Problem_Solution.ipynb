{
  "nbformat": 4,
  "nbformat_minor": 0,
  "metadata": {
    "colab": {
      "name": "10_Problem_Solution.ipynb",
      "provenance": [],
      "include_colab_link": true
    },
    "kernelspec": {
      "name": "python3",
      "display_name": "Python 3"
    },
    "language_info": {
      "name": "python"
    }
  },
  "cells": [
    {
      "cell_type": "markdown",
      "metadata": {
        "id": "view-in-github",
        "colab_type": "text"
      },
      "source": [
        "<a href=\"https://colab.research.google.com/github/lakshmisaibhargavi/fmml2021/blob/main/10_Problem_Solution.ipynb\" target=\"_parent\"><img src=\"https://colab.research.google.com/assets/colab-badge.svg\" alt=\"Open In Colab\"/></a>"
      ]
    },
    {
      "cell_type": "markdown",
      "metadata": {
        "id": "OOqL-EVPygGb"
      },
      "source": [
        "## The case at Madagascar. \n",
        "\n",
        "People are falling sick due to Covid 19 and the government wants to vaccinate the citizens who are at highest risk, on priority.\n",
        "A few features that contribute to risk, has been identified alongwith their extent of contribution. The risk factors are to be calculated and measured against a threshold value. All citizens who score beyond this threshold value are to be categorised as Risk-prone.\n",
        "\n",
        "The data given is as such:\n",
        "\n",
        "|Person|Citizen ID | Age | Sugar Level (Blood) | Pollutant Level (Air) |\n",
        "|------|-----|-----|----|----|\n",
        "|1|AAA| 20 | 122 | 20 |\n",
        "|2|AAB |35 | 180 | 35|\n",
        "|3|ACA | 50 | 220 | 65|\n",
        "|4|ABB | 70 | 300 | 30 |\n",
        "\n",
        "Contribution of features to the disease:\n",
        "\n",
        "|Feature|Weight|\n",
        "|-------|-------|\n",
        "|Age|0.05|\n",
        "|Blood Sugar|0.002|\n",
        "|Pollutant Level|0.02|\n",
        "\n",
        "The high-risk people are those whose \"weighted-sum of all features\" falls above 4.0\n",
        "\n",
        "FMML team members are required to develop a prototype (preferably, a python function) that works, as soon as possible, and host it on their personal GitHub account. The python function should accept input data, which would be a set of features for citizens of Madagascar, and inform which of those citizens are prone to risk.\n"
      ]
    },
    {
      "cell_type": "code",
      "metadata": {
        "id": "4tHdnVmZSQIR"
      },
      "source": [
        "# Madagascar problem"
      ],
      "execution_count": 1,
      "outputs": []
    },
    {
      "cell_type": "code",
      "metadata": {
        "id": "KkTnYRbjSZ4g"
      },
      "source": [
        "import numpy as np"
      ],
      "execution_count": 2,
      "outputs": []
    },
    {
      "cell_type": "code",
      "metadata": {
        "id": "vbsZHOPVSbYh"
      },
      "source": [
        "A = np.array([[20, 122, 20], [35,180, 35],[50, 220, 65], [70, 300, 30]])\n",
        "x = np.array([[0.05], [0.002], [0.02]])"
      ],
      "execution_count": 3,
      "outputs": []
    },
    {
      "cell_type": "code",
      "metadata": {
        "id": "4CvxUBB8U0PA"
      },
      "source": [
        "# 4x3 . 3x1 = 4x1"
      ],
      "execution_count": 4,
      "outputs": []
    },
    {
      "cell_type": "code",
      "metadata": {
        "id": "PSJBzTZzSdzT"
      },
      "source": [
        "y = np.matmul(A,x) - 4.0"
      ],
      "execution_count": 5,
      "outputs": []
    },
    {
      "cell_type": "code",
      "metadata": {
        "id": "Um0CIsH1VJPi"
      },
      "source": [
        "Z = np.hstack((A,y))"
      ],
      "execution_count": 6,
      "outputs": []
    },
    {
      "cell_type": "code",
      "metadata": {
        "id": "Oryf-5goVTxG",
        "outputId": "6c35e6e2-5f63-4c4f-8e55-b29a617091ea",
        "colab": {
          "base_uri": "https://localhost:8080/"
        }
      },
      "source": [
        "Z"
      ],
      "execution_count": 7,
      "outputs": [
        {
          "output_type": "execute_result",
          "data": {
            "text/plain": [
              "array([[ 2.000e+01,  1.220e+02,  2.000e+01, -2.356e+00],\n",
              "       [ 3.500e+01,  1.800e+02,  3.500e+01, -1.190e+00],\n",
              "       [ 5.000e+01,  2.200e+02,  6.500e+01,  2.400e-01],\n",
              "       [ 7.000e+01,  3.000e+02,  3.000e+01,  7.000e-01]])"
            ]
          },
          "metadata": {},
          "execution_count": 7
        }
      ]
    },
    {
      "cell_type": "code",
      "metadata": {
        "id": "vQt6XMT8ViYW"
      },
      "source": [
        "def RankArray(A,x):\n",
        "  y = np.dot(A,x) - 4.0\n",
        "  L = np.hstack((A,y))\n",
        "  return L"
      ],
      "execution_count": 8,
      "outputs": []
    },
    {
      "cell_type": "code",
      "metadata": {
        "id": "6VqMLbRWVwL3",
        "outputId": "3809b99a-dcb1-478e-cc85-20588f00f919",
        "colab": {
          "base_uri": "https://localhost:8080/"
        }
      },
      "source": [
        "print (RankArray(A,x))"
      ],
      "execution_count": 9,
      "outputs": [
        {
          "output_type": "stream",
          "name": "stdout",
          "text": [
            "[[ 2.000e+01  1.220e+02  2.000e+01 -2.356e+00]\n",
            " [ 3.500e+01  1.800e+02  3.500e+01 -1.190e+00]\n",
            " [ 5.000e+01  2.200e+02  6.500e+01  2.400e-01]\n",
            " [ 7.000e+01  3.000e+02  3.000e+01  7.000e-01]]\n"
          ]
        }
      ]
    },
    {
      "cell_type": "code",
      "metadata": {
        "id": "szNaxnqMxvr5"
      },
      "source": [
        "risk = RankArray(A,x)"
      ],
      "execution_count": 10,
      "outputs": []
    },
    {
      "cell_type": "code",
      "metadata": {
        "id": "Ml_052MTx-VM",
        "outputId": "3ac54ef4-6c6e-45e0-aa7c-cb10411da147",
        "colab": {
          "base_uri": "https://localhost:8080/"
        }
      },
      "source": [
        "prone_factor = y > 0\n",
        "\n",
        "for i, p in enumerate(prone_factor):\n",
        "  if p:\n",
        "    print(\"Person\", i+1, \"is prone to risk\")\n",
        "  else:\n",
        "    print(\"Person\", i+1, \"is not prone to risk\")"
      ],
      "execution_count": 12,
      "outputs": [
        {
          "output_type": "stream",
          "name": "stdout",
          "text": [
            "Person 1 is not prone to risk\n",
            "Person 2 is not prone to risk\n",
            "Person 3 is prone to risk\n",
            "Person 4 is prone to risk\n"
          ]
        }
      ]
    }
  ]
}